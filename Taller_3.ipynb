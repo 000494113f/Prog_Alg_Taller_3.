{
  "nbformat": 4,
  "nbformat_minor": 0,
  "metadata": {
    "colab": {
      "provenance": [],
      "authorship_tag": "ABX9TyPvLVzBMGkJ0vMm5CXO7cO4",
      "include_colab_link": true
    },
    "kernelspec": {
      "name": "python3",
      "display_name": "Python 3"
    },
    "language_info": {
      "name": "python"
    }
  },
  "cells": [
    {
      "cell_type": "markdown",
      "metadata": {
        "id": "view-in-github",
        "colab_type": "text"
      },
      "source": [
        "<a href=\"https://colab.research.google.com/github/000494113f/Prog_Alg_Taller_3./blob/main/Taller_3.ipynb\" target=\"_parent\"><img src=\"https://colab.research.google.com/assets/colab-badge.svg\" alt=\"Open In Colab\"/></a>"
      ]
    },
    {
      "cell_type": "code",
      "execution_count": 1,
      "metadata": {
        "colab": {
          "base_uri": "https://localhost:8080/"
        },
        "id": "2EU5LSPSQr2C",
        "outputId": "f248859b-dfe7-4807-91b3-1cdfa27b361e"
      },
      "outputs": [
        {
          "name": "stdout",
          "output_type": "stream",
          "text": [
            "escriba nombres de los participantes:Franchesca Gracia\n"
          ]
        }
      ],
      "source": [
        "name = input(\"escriba nombres de los participantes:\")"
      ]
    },
    {
      "cell_type": "markdown",
      "source": [
        " # Problema 1\n",
        "\n",
        "Calcular y mostrar  la posición de una partícula que experimenta movimiento uniformemente acelerado a partir de su posición inicial (𝑥0), velocidad inicial (𝑣0) y aceleración (𝑎) en dos instantes de\n",
        "tiempo diferentes. La posición en un instante de tiempo está dada por:\n",
        "\n",
        "x = x0 + v0 * t + 1/2 * a * t ** 2"
      ],
      "metadata": {
        "id": "qYZb39QeQ6Mz"
      }
    },
    {
      "cell_type": "code",
      "source": [
        "print(\"programa para calcular la posicion de una particula\")\n",
        "x0 = float(input(\"ingrese la posicion inicial (x0): \"))\n",
        "v0 = float(input(\" ingrese la velocidad inicial (v0): \"))\n",
        "a = float(input(\" ingrese la aceleracion (a): \"))\n",
        "t = float(input(\"ingrese el tiempo (s): \"))\n",
        "x = x0 + v0 * t + 1/2 * a* t ** 2\n",
        "print(\"la posicion de la particula con posicion inicial\", str(x0), \"(x0) y velocidad\", str(v0) , \"(v0) y aceleracion\", str(a) , \"(a) y tiempo\" , str(t) ,\"(s) la posicion es\", str(x) , \"m.\" )"
      ],
      "metadata": {
        "colab": {
          "base_uri": "https://localhost:8080/"
        },
        "id": "RGKQTdmYQ0S2",
        "outputId": "bc7d8364-3b97-4da5-8030-ae9d8f663df6"
      },
      "execution_count": 2,
      "outputs": [
        {
          "output_type": "stream",
          "name": "stdout",
          "text": [
            "programa para calcular la posicion de una particula\n",
            "ingrese la posicion inicial (x0): 6\n",
            " ingrese la velocidad inicial (v0): 10\n",
            " ingrese la aceleracion (a): 16\n",
            "ingrese el tiempo (s): 9\n",
            "la posicion de la particula con posicion inicial 6.0 (x0) y velocidad 10.0 (v0) y aceleracion 16.0 (a) y tiempo 9.0 (s) la posicion es 744.0 m.\n"
          ]
        }
      ]
    },
    {
      "cell_type": "code",
      "source": [
        "print(\"programa para calcular la posicion de una particula\")\n",
        "x0 = float(input(\"ingrese la posicion inicial (x0): \"))\n",
        "v0 = float(input(\" ingrese la velocidad inicial (v0): \"))\n",
        "a = float(input(\" ingrese la aceleracion (a): \"))\n",
        "t = float(input(\"ingrese el tiempo (s): \"))\n",
        "x = x0 + v0 * t + 1/2 * a* t ** 2\n",
        "print(\"la posicion de la particula con posicion inicial\", str(x0), \"(x0) y velocidad\", str(v0) , \"(v0) y aceleracion\", str(a) , \"(a) y tiempo\" , str(t) ,\"(s) la posicion es\", str(x) , \"m.\" )"
      ],
      "metadata": {
        "colab": {
          "base_uri": "https://localhost:8080/"
        },
        "id": "cXPT7v0ZRFmm",
        "outputId": "6b418f04-fbca-4546-e749-117e70a5c6b5"
      },
      "execution_count": 4,
      "outputs": [
        {
          "output_type": "stream",
          "name": "stdout",
          "text": [
            "programa para calcular la posicion de una particula\n",
            "ingrese la posicion inicial (x0): 24\n",
            " ingrese la velocidad inicial (v0): 11\n",
            " ingrese la aceleracion (a): 5\n",
            "ingrese el tiempo (s): 5\n",
            "la posicion de la particula con posicion inicial 24.0 (x0) y velocidad 11.0 (v0) y aceleracion 5.0 (a) y tiempo 5.0 (s) la posicion es 141.5 m.\n"
          ]
        }
      ]
    },
    {
      "cell_type": "markdown",
      "source": [
        "# PROBLEMA 2\n",
        "Calcular y mostrar la distancia entre dos puntos P1 y P2 ubicados en las coordenadas (𝑥1, 𝑦1) y (𝑥2, 𝑦2). La distancia euclidiana se calcula con la ecuación:\n",
        "\n",
        "d ="
      ],
      "metadata": {
        "id": "u9Qw1nJ0Ra3e"
      }
    },
    {
      "cell_type": "code",
      "source": [
        "import math\n",
        "print(\" Programa para calcular la distancia entre dos puntos\")\n",
        "x1 = float(input(\"ingrese la coordenada (x1): \"))\n",
        "x2 = float(input(\"ingrese la coordenada (x2): \"))\n",
        "y1 =  float(input(\"ingrese la coordenada (y1): \"))\n",
        "y2 = float(input(\"ingrese la coordenada (y2): \") )\n",
        "distance = math.sqrt((x2 - x1) ** 2 + ((y2 - y1) ** 2 ))\n",
        "print(\" la distancia entre dos puntos con coordenada\", str(x1), \"(x1) y coordenada\", str(x2), \"(x2) y coordenada\", str(y1), \"(y1) y coordenada\", str(y2), \"(y2) la distance es\", str(distance), \"m.\")"
      ],
      "metadata": {
        "colab": {
          "base_uri": "https://localhost:8080/"
        },
        "id": "mIWkkk9ERSAh",
        "outputId": "c0c40d0e-cf34-46b1-92e8-5e6a5894783d"
      },
      "execution_count": 5,
      "outputs": [
        {
          "output_type": "stream",
          "name": "stdout",
          "text": [
            " Programa para calcular la distancia entre dos puntos\n",
            "ingrese la coordenada (x1): 6.5\n",
            "ingrese la coordenada (x2): 4.7\n",
            "ingrese la coordenada (y1): 7.5\n",
            "ingrese la coordenada (y2): 12.5\n",
            " la distancia entre dos puntos con coordenada 6.5 (x1) y coordenada 4.7 (x2) y coordenada 7.5 (y1) y coordenada 12.5 (y2) la distance es 5.314132102234569 m.\n"
          ]
        }
      ]
    },
    {
      "cell_type": "markdown",
      "source": [
        "# PROBLEMA 3\n",
        "\n",
        "Calcular y mostrar el valor del volumen de un cilindro cuyo radio y altura sean ingresados por el usuario. El volumen de un cilindro está dado por:\n",
        "\n",
        "v = pi * r ** 2 * h"
      ],
      "metadata": {
        "id": "8UNxQzczRqLI"
      }
    },
    {
      "cell_type": "code",
      "source": [
        "import math\n",
        "print(\"Programa para calcular el volumen de un cilindro\")\n",
        "r = float(input(\"ingrese el valor del radio (r): \"))\n",
        "h = float(input(\"ingrese el valor de la alturra (h): \"))\n",
        "v = math.pi * r ** 2 * h\n",
        "print(\"El volumen de un cilindro con radio\", str(r), \"(r) y la altura\", str(h), \"(h) y volumen es\" ,str(v),\"m3.\")"
      ],
      "metadata": {
        "colab": {
          "base_uri": "https://localhost:8080/"
        },
        "id": "nzazEE-fRkJW",
        "outputId": "bee359b7-c447-427b-ae58-8a96ff26d596"
      },
      "execution_count": 6,
      "outputs": [
        {
          "output_type": "stream",
          "name": "stdout",
          "text": [
            "Programa para calcular el volumen de un cilindro\n",
            "ingrese el valor del radio (r): 15\n",
            "ingrese el valor de la alturra (h): 10\n",
            "El volumen de un cilindro con radio 15.0 (r) y la altura 10.0 (h) y volumen es 7068.583470577034 m3.\n"
          ]
        }
      ]
    },
    {
      "cell_type": "markdown",
      "source": [
        "# PROBLEMA 4\n",
        "Calcular y mostrar el resultado de las siguientes operaciones lógicas:\n",
        "1. A > B y B > D\n",
        "2. B <= C o C < D\n",
        "3. A = B y B > C\n",
        "4. A < C o B < C\n",
        "5. A + D < C y B > 5\n",
        "6. D – C >= - A * B\n",
        "7. D * C == 5 o C * A > 9\n",
        "8. A * B + C > - D * 10"
      ],
      "metadata": {
        "id": "OdOjdiQGR7lz"
      }
    },
    {
      "cell_type": "code",
      "source": [
        "# Definir los valores para A, B, C, D\n",
        "A = 1.9\n",
        "B = 4.9\n",
        "C = 3.6\n",
        "D = 12.8\n",
        "\n",
        "# 1. A > B y B > D\n",
        "resultado1 = A > B and B > D\n",
        "\n",
        " # 2. B <= C o C < D\n",
        "resultado2 = B <= C or C < D\n",
        "\n",
        " # 3. A = B Y B > C\n",
        "resultado3 = A = B and B > C\n",
        "\n",
        " # 4. A < C o B < C\n",
        "resultado4 = A < C or B < C\n",
        "\n",
        " # 5. A + D < C y B > 5\n",
        "resultado5 = A + D < C and B > 5\n",
        "\n",
        " # 6. D - C >= -A * B\n",
        "resultado6 = D - C >= -A * B\n",
        "\n",
        " # 7. D * C == 5 o C * A > 9\n",
        "resultado7= D * C == 5 or C * A > 9\n",
        "\n",
        " # 8. A * B + C > -D * 10\n",
        "resultado8 = A * B + C > -D * 10\n",
        "\n",
        " # Mostrar resultados\n",
        "print(\"ingrese resultado 1: \", resultado1)\n",
        "print(\"ingrese resultado 2: \", resultado2)\n",
        "print(\"ingrese resultado 3: \", resultado3)\n",
        "print(\"ingrese resultado 4: \", resultado4)\n",
        "print(\"ingrese resultado 5: \", resultado5)\n",
        "print(\"ingrese resultado 6: \", resultado6)\n",
        "print(\"ingrese resultado 7: \", resultado7)\n",
        "print(\"ingrese resultado 8: \", resultado8)"
      ],
      "metadata": {
        "colab": {
          "base_uri": "https://localhost:8080/"
        },
        "id": "wCHrcrBtSCj6",
        "outputId": "5ea68566-d79d-457e-9aec-89fb8b09d53a"
      },
      "execution_count": 21,
      "outputs": [
        {
          "output_type": "stream",
          "name": "stdout",
          "text": [
            "ingrese resultado 1:  False\n",
            "ingrese resultado 2:  True\n",
            "ingrese resultado 3:  True\n",
            "ingrese resultado 4:  True\n",
            "ingrese resultado 5:  False\n",
            "ingrese resultado 6:  True\n",
            "ingrese resultado 7:  False\n",
            "ingrese resultado 8:  True\n"
          ]
        }
      ]
    },
    {
      "cell_type": "code",
      "source": [],
      "metadata": {
        "id": "InMxD6nxS6U4"
      },
      "execution_count": null,
      "outputs": []
    }
  ]
}